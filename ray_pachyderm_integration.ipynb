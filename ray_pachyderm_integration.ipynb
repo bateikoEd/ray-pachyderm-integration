{
 "cells": [
  {
   "cell_type": "markdown",
   "id": "1950790d-039c-465c-85fc-6c4449264ebf",
   "metadata": {},
   "source": [
    "# Generate json flie"
   ]
  },
  {
   "cell_type": "code",
   "execution_count": 3,
   "id": "60184c2a-40bb-4a60-acba-68c49b1df345",
   "metadata": {},
   "outputs": [],
   "source": [
    "import json\n",
    "\n",
    "input_list = list(range(150))\n",
    "dict_json_data = {'input_data': input_list}\n",
    "\n",
    "\n",
    "with open('input_data.json', 'w') as f:\n",
    "    json_object = json.dumps(dict_json_data)\n",
    "    f.write(json_object)"
   ]
  },
  {
   "cell_type": "markdown",
   "id": "25580cbf-3704-4e09-a9e9-2f676485175f",
   "metadata": {},
   "source": [
    "# Torch train"
   ]
  },
  {
   "cell_type": "markdown",
   "id": "2de88bcf-9811-44f1-9852-4a0a5281fb8a",
   "metadata": {},
   "source": [
    "## Create dataset"
   ]
  },
  {
   "cell_type": "code",
   "execution_count": 60,
   "id": "5193fb9d-e133-438c-919d-3eb9a357eee6",
   "metadata": {},
   "outputs": [],
   "source": [
    "from torch.utils.data import Dataset\n",
    "import numpy as np\n",
    "\n",
    "class DatasetGenerator(Dataset):\n",
    "    def __init__(self, data:dict):\n",
    "        self.x = data[\"input_data\"]\n",
    "        self.y = data[\"output_data\"]\n",
    "        \n",
    "        self.x = np.array(self.x, dtype=np.float32).reshape(-1, 1)\n",
    "        self.y = np.array(self.y, dtype=np.float32).reshape(-1, 1)\n",
    "        \n",
    "    def __len__(self):\n",
    "        return len(self.x)\n",
    "    \n",
    "    def __getitem__(self, index):\n",
    "        return self.x[index], self.y[index]"
   ]
  },
  {
   "cell_type": "code",
   "execution_count": 80,
   "id": "5f909a2b-0c2b-4189-86e3-454d5ebc1ab1",
   "metadata": {},
   "outputs": [],
   "source": [
    "from torch.utils.data import DataLoader\n",
    "from torchvision.transforms import ToTensor\n",
    "from torchvision import datasets\n",
    "from torch import nn\n",
    "import python_pachyderm\n",
    "import json\n",
    "\n",
    "def get_data():\n",
    "    client_pachyderm = python_pachyderm.Client()\n",
    "    \n",
    "    dict_input = {\"project\": \"pach_ray\",\n",
    "                 \"repo\": \"data_preprocessing\",\n",
    "                 \"branch\": \"master\"}\n",
    "    \n",
    "    data_binary = client_pachyderm.get_file(dict_input, \"output_data.json\")\n",
    "    \n",
    "    str_json = data_binary.read()\n",
    "    str_json = str_json.decode(\"utf-8\")\n",
    "    dict_data = json.loads(str_json)\n",
    "\n",
    "    return DatasetGenerator(dict_data)\n",
    "\n",
    "class MyModel(nn.Module):\n",
    "    def __init__(self):\n",
    "        super().__init__()\n",
    "        self.linear_model = nn.Sequential(\n",
    "            nn.Linear(1, 2),\n",
    "            nn.SELU(),\n",
    "            nn.Linear(2,1)\n",
    "        )\n",
    "        \n",
    "    def forward(self, inputs):\n",
    "        return self.linear_model(inputs)"
   ]
  },
  {
   "cell_type": "code",
   "execution_count": 115,
   "id": "45043af6-7e61-4822-b3cd-9e76688b177d",
   "metadata": {},
   "outputs": [],
   "source": [
    "from torch.optim import SGD\n",
    "\n",
    "LEARNINIG_RATE = 2 * 1e-6\n",
    "EPOCHES = 40\n",
    "BATCH_SIZE = 150\n",
    "\n",
    "def train_model():\n",
    "    dataset_train = get_data()\n",
    "    dataloader = DataLoader(dataset_train, batch_size=BATCH_SIZE)\n",
    "    model = MyModel()\n",
    "    \n",
    "    criterion = nn.MSELoss()\n",
    "    optimizer = SGD(model.parameters(), lr=LEARNINIG_RATE)\n",
    "\n",
    "    for epoch in range(EPOCHES):\n",
    "        for inputs, labels in dataloader:\n",
    "            optimizer.zero_grad()\n",
    "            pred = model(inputs)\n",
    "            loss = criterion(pred, labels)\n",
    "            loss.backward()\n",
    "            optimizer.step()\n",
    "        print(f\"epoch:\\t{epoch}\\tloss:\\t{loss.item()}\")"
   ]
  },
  {
   "cell_type": "code",
   "execution_count": 116,
   "id": "4ae73ed9-bcf2-44a5-8268-8b5821660fcd",
   "metadata": {},
   "outputs": [
    {
     "name": "stdout",
     "output_type": "stream",
     "text": [
      "epoch:\t0\tloss:\t477928.625\n",
      "epoch:\t1\tloss:\t470770.5625\n",
      "epoch:\t2\tloss:\t463455.03125\n",
      "epoch:\t3\tloss:\t454283.625\n",
      "epoch:\t4\tloss:\t441476.40625\n",
      "epoch:\t5\tloss:\t422921.15625\n",
      "epoch:\t6\tloss:\t396105.40625\n",
      "epoch:\t7\tloss:\t358392.9375\n",
      "epoch:\t8\tloss:\t307926.84375\n",
      "epoch:\t9\tloss:\t245363.46875\n",
      "epoch:\t10\tloss:\t175913.0625\n",
      "epoch:\t11\tloss:\t109653.890625\n",
      "epoch:\t12\tloss:\t57618.73828125\n",
      "epoch:\t13\tloss:\t25123.4765625\n",
      "epoch:\t14\tloss:\t9177.46875\n",
      "epoch:\t15\tloss:\t2904.857177734375\n",
      "epoch:\t16\tloss:\t832.61328125\n",
      "epoch:\t17\tloss:\t224.9871826171875\n",
      "epoch:\t18\tloss:\t59.271053314208984\n",
      "epoch:\t19\tloss:\t15.869817733764648\n",
      "epoch:\t20\tloss:\t4.745353698730469\n",
      "epoch:\t21\tloss:\t1.925251841545105\n",
      "epoch:\t22\tloss:\t1.2144887447357178\n",
      "epoch:\t23\tloss:\t1.0358177423477173\n",
      "epoch:\t24\tloss:\t0.9909423589706421\n",
      "epoch:\t25\tloss:\t0.9796741604804993\n",
      "epoch:\t26\tloss:\t0.9768619537353516\n",
      "epoch:\t27\tloss:\t0.97613525390625\n",
      "epoch:\t28\tloss:\t0.9759318828582764\n",
      "epoch:\t29\tloss:\t0.9758701324462891\n",
      "epoch:\t30\tloss:\t0.9758339524269104\n",
      "epoch:\t31\tloss:\t0.9758046269416809\n",
      "epoch:\t32\tloss:\t0.9757848381996155\n",
      "epoch:\t33\tloss:\t0.9757511615753174\n",
      "epoch:\t34\tloss:\t0.9757333397865295\n",
      "epoch:\t35\tloss:\t0.9757096171379089\n",
      "epoch:\t36\tloss:\t0.9756918549537659\n",
      "epoch:\t37\tloss:\t0.9756594896316528\n",
      "epoch:\t38\tloss:\t0.975640058517456\n",
      "epoch:\t39\tloss:\t0.9756188988685608\n"
     ]
    }
   ],
   "source": [
    "train_model()"
   ]
  },
  {
   "cell_type": "code",
   "execution_count": 107,
   "id": "a7a2b880-1dab-41a2-8875-541690ee08e6",
   "metadata": {},
   "outputs": [],
   "source": [
    "from ray.train import torch as torch_ray\n",
    "from ray.air import session, Checkpoint\n",
    "\n",
    "def train_model_distributed():\n",
    "    \n",
    "    dataset_train = get_data()\n",
    "    dataloader = DataLoader(dataset_train, batch_size=BATCH_SIZE)\n",
    "    model = MyModel()\n",
    "    \n",
    "    # formatiing to ray train\n",
    "    dataloader = torch_ray.prepare_data_loader(dataloader)\n",
    "    model = torch_ray.prepare_model(model)\n",
    "    # -------------------------\n",
    "    criterion = nn.MSELoss()\n",
    "    optimizer = SGD(model.parameters(), lr=LEARNINIG_RATE)\n",
    "\n",
    "    for epoch in range(EPOCHES):\n",
    "        for inputs, labels in dataloader:\n",
    "            optimizer.zero_grad()\n",
    "            pred = model(inputs)\n",
    "            loss = criterion(pred, labels)\n",
    "            loss.backward()\n",
    "            optimizer.step()\n",
    "        # -------------\n",
    "        session.report({\"loss\": loss.item(), \"epoch\": epoch},\n",
    "                      checkpoint=Checkpoint.from_dict(\n",
    "                      dict(epoch=epoch, model_state=model.state_dict())))\n",
    "        # --------------\n",
    "        \n",
    "        print(f\"epoch:\\t{epoch}\\tloss:\\t{loss.item()}\")"
   ]
  },
  {
   "cell_type": "code",
   "execution_count": 117,
   "id": "ec727121-7329-4164-a16a-7f3e8382030e",
   "metadata": {},
   "outputs": [
    {
     "data": {
      "text/html": [
       "<div class=\"tuneStatus\">\n",
       "  <div style=\"display: flex;flex-direction: row\">\n",
       "    <div style=\"display: flex;flex-direction: column;\">\n",
       "      <h3>Tune Status</h3>\n",
       "      <table>\n",
       "<tbody>\n",
       "<tr><td>Current time:</td><td>2023-07-10 12:09:12</td></tr>\n",
       "<tr><td>Running for: </td><td>00:00:13.32        </td></tr>\n",
       "<tr><td>Memory:      </td><td>13.1/31.1 GiB      </td></tr>\n",
       "</tbody>\n",
       "</table>\n",
       "    </div>\n",
       "    <div class=\"vDivider\"></div>\n",
       "    <div class=\"systemInfo\">\n",
       "      <h3>System Info</h3>\n",
       "      Using FIFO scheduling algorithm.<br>Logical resource usage: 6.0/8 CPUs, 0/0 GPUs\n",
       "    </div>\n",
       "    \n",
       "  </div>\n",
       "  <div class=\"hDivider\"></div>\n",
       "  <div class=\"trialStatus\">\n",
       "    <h3>Trial Status</h3>\n",
       "    <table>\n",
       "<thead>\n",
       "<tr><th>Trial name              </th><th>status    </th><th>loc                   </th><th style=\"text-align: right;\">  iter</th><th style=\"text-align: right;\">  total time (s)</th><th style=\"text-align: right;\">   loss</th><th style=\"text-align: right;\">  epoch</th></tr>\n",
       "</thead>\n",
       "<tbody>\n",
       "<tr><td>TorchTrainer_67a58_00000</td><td>TERMINATED</td><td>192.168.20.185:1668740</td><td style=\"text-align: right;\">    40</td><td style=\"text-align: right;\">         8.63318</td><td style=\"text-align: right;\">0.10257</td><td style=\"text-align: right;\">     39</td></tr>\n",
       "</tbody>\n",
       "</table>\n",
       "  </div>\n",
       "</div>\n",
       "<style>\n",
       ".tuneStatus {\n",
       "  color: var(--jp-ui-font-color1);\n",
       "}\n",
       ".tuneStatus .systemInfo {\n",
       "  display: flex;\n",
       "  flex-direction: column;\n",
       "}\n",
       ".tuneStatus td {\n",
       "  white-space: nowrap;\n",
       "}\n",
       ".tuneStatus .trialStatus {\n",
       "  display: flex;\n",
       "  flex-direction: column;\n",
       "}\n",
       ".tuneStatus h3 {\n",
       "  font-weight: bold;\n",
       "}\n",
       ".tuneStatus .hDivider {\n",
       "  border-bottom-width: var(--jp-border-width);\n",
       "  border-bottom-color: var(--jp-border-color0);\n",
       "  border-bottom-style: solid;\n",
       "}\n",
       ".tuneStatus .vDivider {\n",
       "  border-left-width: var(--jp-border-width);\n",
       "  border-left-color: var(--jp-border-color0);\n",
       "  border-left-style: solid;\n",
       "  margin: 0.5em 1em 0.5em 1em;\n",
       "}\n",
       "</style>\n"
      ],
      "text/plain": [
       "<IPython.core.display.HTML object>"
      ]
     },
     "metadata": {},
     "output_type": "display_data"
    },
    {
     "name": "stderr",
     "output_type": "stream",
     "text": [
      "\u001b[2m\u001b[36m(TorchTrainer pid=1668740)\u001b[0m 2023-07-10 12:09:03,514\tINFO backend_executor.py:137 -- Starting distributed worker processes: ['1668866 (192.168.20.185)', '1668867 (192.168.20.185)', '1668875 (192.168.20.185)', '1668877 (192.168.20.185)', '1668878 (192.168.20.185)']\n",
      "\u001b[2m\u001b[36m(RayTrainWorker pid=1668866)\u001b[0m 2023-07-10 12:09:05,065\tINFO config.py:86 -- Setting up process group for: env:// [rank=0, world_size=5]\n"
     ]
    },
    {
     "name": "stdout",
     "output_type": "stream",
     "text": [
      "\u001b[2m\u001b[36m(RayTrainWorker pid=1668875)\u001b[0m epoch:\t0\tloss:\t463995.34375\u001b[32m [repeated 200x across cluster]\u001b[0m\n"
     ]
    },
    {
     "name": "stderr",
     "output_type": "stream",
     "text": [
      "\u001b[2m\u001b[36m(RayTrainWorker pid=1668866)\u001b[0m 2023-07-10 12:09:06,171\tINFO train_loop_utils.py:286 -- Moving model to device: cpu\n",
      "\u001b[2m\u001b[36m(RayTrainWorker pid=1668866)\u001b[0m 2023-07-10 12:09:06,171\tINFO train_loop_utils.py:346 -- Wrapping provided model in DistributedDataParallel.\n"
     ]
    },
    {
     "data": {
      "text/html": [
       "<div class=\"trialProgress\">\n",
       "  <h3>Trial Progress</h3>\n",
       "  <table>\n",
       "<thead>\n",
       "<tr><th>Trial name              </th><th>date               </th><th>done  </th><th style=\"text-align: right;\">  epoch</th><th style=\"text-align: right;\">  experiment_tag</th><th>hostname       </th><th style=\"text-align: right;\">  iterations_since_restore</th><th style=\"text-align: right;\">   loss</th><th>node_ip       </th><th style=\"text-align: right;\">    pid</th><th>should_checkpoint  </th><th style=\"text-align: right;\">  time_since_restore</th><th style=\"text-align: right;\">  time_this_iter_s</th><th style=\"text-align: right;\">  time_total_s</th><th style=\"text-align: right;\">  timestamp</th><th style=\"text-align: right;\">  training_iteration</th><th>trial_id   </th></tr>\n",
       "</thead>\n",
       "<tbody>\n",
       "<tr><td>TorchTrainer_67a58_00000</td><td>2023-07-10_12-09-10</td><td>True  </td><td style=\"text-align: right;\">     39</td><td style=\"text-align: right;\">               0</td><td>kbp1-lhp-a11064</td><td style=\"text-align: right;\">                        40</td><td style=\"text-align: right;\">0.10257</td><td>192.168.20.185</td><td style=\"text-align: right;\">1668740</td><td>True               </td><td style=\"text-align: right;\">             8.63318</td><td style=\"text-align: right;\">         0.0825279</td><td style=\"text-align: right;\">       8.63318</td><td style=\"text-align: right;\"> 1688980150</td><td style=\"text-align: right;\">                  40</td><td>67a58_00000</td></tr>\n",
       "</tbody>\n",
       "</table>\n",
       "</div>\n",
       "<style>\n",
       ".trialProgress {\n",
       "  display: flex;\n",
       "  flex-direction: column;\n",
       "  color: var(--jp-ui-font-color1);\n",
       "}\n",
       ".trialProgress h3 {\n",
       "  font-weight: bold;\n",
       "}\n",
       ".trialProgress td {\n",
       "  white-space: nowrap;\n",
       "}\n",
       "</style>\n"
      ],
      "text/plain": [
       "<IPython.core.display.HTML object>"
      ]
     },
     "metadata": {},
     "output_type": "display_data"
    },
    {
     "name": "stderr",
     "output_type": "stream",
     "text": [
      "2023-07-10 12:09:12,268\tINFO tune.py:1111 -- Total run time: 13.33 seconds (13.31 seconds for the tuning loop).\n"
     ]
    }
   ],
   "source": [
    "from ray.train.torch import TorchTrainer\n",
    "from ray.air.config import ScalingConfig\n",
    "\n",
    "use_gpu = False\n",
    "\n",
    "trainer = TorchTrainer(train_model_distributed,\n",
    "                      scaling_config=ScalingConfig(num_workers=5, use_gpu=use_gpu))\n",
    "\n",
    "results = trainer.fit()"
   ]
  },
  {
   "cell_type": "code",
   "execution_count": 118,
   "id": "07d71ea3-0799-4644-a4e8-bce664398e0d",
   "metadata": {},
   "outputs": [
    {
     "data": {
      "text/plain": [
       "{'loss': 0.10256955772638321,\n",
       " 'epoch': 39,\n",
       " 'timestamp': 1688980150,\n",
       " 'time_this_iter_s': 0.08252787590026855,\n",
       " 'should_checkpoint': True,\n",
       " 'done': True,\n",
       " 'training_iteration': 40,\n",
       " 'trial_id': '67a58_00000',\n",
       " 'date': '2023-07-10_12-09-10',\n",
       " 'time_total_s': 8.633183479309082,\n",
       " 'pid': 1668740,\n",
       " 'hostname': 'kbp1-lhp-a11064',\n",
       " 'node_ip': '192.168.20.185',\n",
       " 'config': {},\n",
       " 'time_since_restore': 8.633183479309082,\n",
       " 'iterations_since_restore': 40,\n",
       " 'experiment_tag': '0'}"
      ]
     },
     "execution_count": 118,
     "metadata": {},
     "output_type": "execute_result"
    }
   ],
   "source": [
    "results.metrics"
   ]
  }
 ],
 "metadata": {
  "kernelspec": {
   "display_name": "env_development",
   "language": "python",
   "name": "env_development"
  },
  "language_info": {
   "codemirror_mode": {
    "name": "ipython",
    "version": 3
   },
   "file_extension": ".py",
   "mimetype": "text/x-python",
   "name": "python",
   "nbconvert_exporter": "python",
   "pygments_lexer": "ipython3",
   "version": "3.9.16"
  }
 },
 "nbformat": 4,
 "nbformat_minor": 5
}
